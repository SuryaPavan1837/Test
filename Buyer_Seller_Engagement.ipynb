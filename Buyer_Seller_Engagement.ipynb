{
 "cells": [
  {
   "cell_type": "code",
   "execution_count": 106,
   "metadata": {},
   "outputs": [],
   "source": [
    "#Importing the required packages\n",
    "import pandas as pd\n",
    "import numpy as np\n",
    "import matplotlib.pyplot as plt\n",
    "import os\n",
    "from scipy.stats import chisquare\n",
    "import time\n",
    "import datetime\n",
    "import statsmodels.api as sm\n",
    "from sklearn import preprocessing\n",
    "from sklearn.model_selection import KFold\n",
    "from sklearn.linear_model import LogisticRegression\n",
    "from pandas import DataFrame\n",
    "from sklearn.metrics import mean_squared_error\n",
    "from math import sqrt"
   ]
  },
  {
   "cell_type": "code",
   "execution_count": 107,
   "metadata": {},
   "outputs": [],
   "source": [
    "import warnings\n",
    "warnings.filterwarnings('ignore')"
   ]
  },
  {
   "cell_type": "code",
   "execution_count": 108,
   "metadata": {},
   "outputs": [],
   "source": [
    "#Reading in all the files in the directory into a dataframe\n",
    "myPath = \"C:/Users/arunk/Desktop/MyFolder\"\n",
    "filesInDirectory = os.listdir(\"C:/Users/arunk/Desktop/MyFolder\")\n",
    "#Creating a dataframe to hold the contents\n",
    "df = pd.DataFrame(columns=['users', 'joined_time', 'engagement'])\n",
    "for filename in filesInDirectory:\n",
    "    df = df.append(pd.read_csv(filename))\n",
    "    "
   ]
  },
  {
   "cell_type": "code",
   "execution_count": 109,
   "metadata": {},
   "outputs": [],
   "source": [
    "EngagementDF = pd.read_csv(\"dta1.csv\")\n",
    "EngagementDF = EngagementDF.append(pd.read_csv(\"dta2.csv\"))"
   ]
  },
  {
   "cell_type": "code",
   "execution_count": 110,
   "metadata": {},
   "outputs": [
    {
     "data": {
      "text/html": [
       "<div>\n",
       "<style scoped>\n",
       "    .dataframe tbody tr th:only-of-type {\n",
       "        vertical-align: middle;\n",
       "    }\n",
       "\n",
       "    .dataframe tbody tr th {\n",
       "        vertical-align: top;\n",
       "    }\n",
       "\n",
       "    .dataframe thead th {\n",
       "        text-align: right;\n",
       "    }\n",
       "</style>\n",
       "<table border=\"1\" class=\"dataframe\">\n",
       "  <thead>\n",
       "    <tr style=\"text-align: right;\">\n",
       "      <th></th>\n",
       "      <th>user</th>\n",
       "      <th>joined_timestamp</th>\n",
       "      <th>num_auctions_engaged</th>\n",
       "    </tr>\n",
       "  </thead>\n",
       "  <tbody>\n",
       "    <tr>\n",
       "      <th>0</th>\n",
       "      <td>buyer</td>\n",
       "      <td>2016-01-03 02:20:27</td>\n",
       "      <td>22</td>\n",
       "    </tr>\n",
       "    <tr>\n",
       "      <th>1</th>\n",
       "      <td>buyer</td>\n",
       "      <td>2016-01-03 07:57:13</td>\n",
       "      <td>17</td>\n",
       "    </tr>\n",
       "    <tr>\n",
       "      <th>2</th>\n",
       "      <td>buyer</td>\n",
       "      <td>2016-01-05 00:43:05</td>\n",
       "      <td>25</td>\n",
       "    </tr>\n",
       "    <tr>\n",
       "      <th>3</th>\n",
       "      <td>buyer</td>\n",
       "      <td>2016-01-05 03:22:16</td>\n",
       "      <td>20</td>\n",
       "    </tr>\n",
       "    <tr>\n",
       "      <th>4</th>\n",
       "      <td>buyer</td>\n",
       "      <td>2016-01-05 06:15:42</td>\n",
       "      <td>18</td>\n",
       "    </tr>\n",
       "  </tbody>\n",
       "</table>\n",
       "</div>"
      ],
      "text/plain": [
       "    user     joined_timestamp  num_auctions_engaged\n",
       "0  buyer  2016-01-03 02:20:27                    22\n",
       "1  buyer  2016-01-03 07:57:13                    17\n",
       "2  buyer  2016-01-05 00:43:05                    25\n",
       "3  buyer  2016-01-05 03:22:16                    20\n",
       "4  buyer  2016-01-05 06:15:42                    18"
      ]
     },
     "execution_count": 110,
     "metadata": {},
     "output_type": "execute_result"
    }
   ],
   "source": [
    "#Getting a first look of the data\n",
    "EngagementDF.head()"
   ]
  },
  {
   "cell_type": "code",
   "execution_count": 111,
   "metadata": {},
   "outputs": [
    {
     "name": "stdout",
     "output_type": "stream",
     "text": [
      "<class 'pandas.core.frame.DataFrame'>\n",
      "Int64Index: 6109 entries, 0 to 2352\n",
      "Data columns (total 3 columns):\n",
      " #   Column                Non-Null Count  Dtype \n",
      "---  ------                --------------  ----- \n",
      " 0   user                  6109 non-null   object\n",
      " 1   joined_timestamp      6109 non-null   object\n",
      " 2   num_auctions_engaged  6109 non-null   int64 \n",
      "dtypes: int64(1), object(2)\n",
      "memory usage: 190.9+ KB\n"
     ]
    }
   ],
   "source": [
    "#Checking some basic information about the data\n",
    "EngagementDF.info()"
   ]
  },
  {
   "cell_type": "code",
   "execution_count": 112,
   "metadata": {},
   "outputs": [
    {
     "name": "stdout",
     "output_type": "stream",
     "text": [
      "user                    0\n",
      "joined_timestamp        0\n",
      "num_auctions_engaged    0\n",
      "dtype: int64\n"
     ]
    }
   ],
   "source": [
    "#Checking any missing values in the data\n",
    "print(EngagementDF.isna().sum())\n",
    "#From the output we can notice that there are no missing values in the dataset"
   ]
  },
  {
   "cell_type": "code",
   "execution_count": 113,
   "metadata": {},
   "outputs": [
    {
     "name": "stdout",
     "output_type": "stream",
     "text": [
      "Empty DataFrame\n",
      "Columns: [user, joined_timestamp, num_auctions_engaged]\n",
      "Index: []\n"
     ]
    }
   ],
   "source": [
    "#Checking for duplicates in the data\n",
    "EngagementDF.groupby(['user', 'joined_timestamp','num_auctions_engaged']).count()\n",
    "print(EngagementDF[EngagementDF.duplicated()])\n",
    "# There seems to be no duplicates in the data"
   ]
  },
  {
   "cell_type": "code",
   "execution_count": 114,
   "metadata": {},
   "outputs": [
    {
     "name": "stdout",
     "output_type": "stream",
     "text": [
      "2016-01-03 02:20:27 is the minimum\n",
      "2018-03-31 09:39:29 is the maximum\n"
     ]
    }
   ],
   "source": [
    "#Getting the minimum and maximum in the timestamp to validate 3 months range\n",
    "print(EngagementDF[\"joined_timestamp\"].min()+\" is the minimum\")\n",
    "print(EngagementDF[\"joined_timestamp\"].max()+\" is the maximum\")\n",
    "#We have the data from from 2016 to 2018"
   ]
  },
  {
   "cell_type": "code",
   "execution_count": 115,
   "metadata": {},
   "outputs": [
    {
     "data": {
      "text/plain": [
       "buyer     4370\n",
       "seller    1739\n",
       "Name: user, dtype: int64"
      ]
     },
     "execution_count": 115,
     "metadata": {},
     "output_type": "execute_result"
    }
   ],
   "source": [
    "EngagementDF[\"user\"].value_counts()"
   ]
  },
  {
   "cell_type": "code",
   "execution_count": 116,
   "metadata": {},
   "outputs": [
    {
     "data": {
      "text/html": [
       "<div>\n",
       "<style scoped>\n",
       "    .dataframe tbody tr th:only-of-type {\n",
       "        vertical-align: middle;\n",
       "    }\n",
       "\n",
       "    .dataframe tbody tr th {\n",
       "        vertical-align: top;\n",
       "    }\n",
       "\n",
       "    .dataframe thead th {\n",
       "        text-align: right;\n",
       "    }\n",
       "</style>\n",
       "<table border=\"1\" class=\"dataframe\">\n",
       "  <thead>\n",
       "    <tr style=\"text-align: right;\">\n",
       "      <th></th>\n",
       "      <th>user</th>\n",
       "      <th>joined_timestamp</th>\n",
       "      <th>num_auctions_engaged</th>\n",
       "    </tr>\n",
       "  </thead>\n",
       "  <tbody>\n",
       "    <tr>\n",
       "      <th>0</th>\n",
       "      <td>buyer</td>\n",
       "      <td>2016-01-03 02:20:27</td>\n",
       "      <td>22</td>\n",
       "    </tr>\n",
       "    <tr>\n",
       "      <th>1</th>\n",
       "      <td>buyer</td>\n",
       "      <td>2016-01-03 07:57:13</td>\n",
       "      <td>17</td>\n",
       "    </tr>\n",
       "    <tr>\n",
       "      <th>2</th>\n",
       "      <td>buyer</td>\n",
       "      <td>2016-01-05 00:43:05</td>\n",
       "      <td>25</td>\n",
       "    </tr>\n",
       "    <tr>\n",
       "      <th>3</th>\n",
       "      <td>buyer</td>\n",
       "      <td>2016-01-05 03:22:16</td>\n",
       "      <td>20</td>\n",
       "    </tr>\n",
       "    <tr>\n",
       "      <th>4</th>\n",
       "      <td>buyer</td>\n",
       "      <td>2016-01-05 06:15:42</td>\n",
       "      <td>18</td>\n",
       "    </tr>\n",
       "  </tbody>\n",
       "</table>\n",
       "</div>"
      ],
      "text/plain": [
       "    user     joined_timestamp  num_auctions_engaged\n",
       "0  buyer  2016-01-03 02:20:27                    22\n",
       "1  buyer  2016-01-03 07:57:13                    17\n",
       "2  buyer  2016-01-05 00:43:05                    25\n",
       "3  buyer  2016-01-05 03:22:16                    20\n",
       "4  buyer  2016-01-05 06:15:42                    18"
      ]
     },
     "execution_count": 116,
     "metadata": {},
     "output_type": "execute_result"
    }
   ],
   "source": [
    "EngagementDF.head()"
   ]
  },
  {
   "cell_type": "code",
   "execution_count": 117,
   "metadata": {},
   "outputs": [],
   "source": [
    "#Renaiming the columns in the dataframe\n",
    "EngagementDF.columns = [\"user\",\"joined_date\",\"engagement\"]\n",
    "BuyersDF = EngagementDF[EngagementDF[\"user\"]==\"buyer\"]\n",
    "SellerDF = EngagementDF[EngagementDF[\"user\"]==\"seller\"]"
   ]
  },
  {
   "cell_type": "code",
   "execution_count": 118,
   "metadata": {},
   "outputs": [
    {
     "data": {
      "text/plain": [
       "count    4370.000000\n",
       "mean       25.136842\n",
       "std         4.140809\n",
       "min        10.000000\n",
       "25%        22.000000\n",
       "50%        25.000000\n",
       "75%        28.000000\n",
       "max        39.000000\n",
       "Name: engagement, dtype: float64"
      ]
     },
     "execution_count": 118,
     "metadata": {},
     "output_type": "execute_result"
    }
   ],
   "source": [
    "#Getting the summary statistic for user engagement\n",
    "BuyersDF[\"engagement\"].describe()"
   ]
  },
  {
   "cell_type": "code",
   "execution_count": 119,
   "metadata": {},
   "outputs": [
    {
     "data": {
      "text/plain": [
       "count    1739.000000\n",
       "mean       15.113859\n",
       "std         2.181291\n",
       "min         7.000000\n",
       "25%        14.000000\n",
       "50%        15.000000\n",
       "75%        17.000000\n",
       "max        23.000000\n",
       "Name: engagement, dtype: float64"
      ]
     },
     "execution_count": 119,
     "metadata": {},
     "output_type": "execute_result"
    }
   ],
   "source": [
    "SellerDF[\"engagement\"].describe()"
   ]
  },
  {
   "cell_type": "code",
   "execution_count": 120,
   "metadata": {},
   "outputs": [
    {
     "name": "stdout",
     "output_type": "stream",
     "text": [
      "stat=9340.979,p=0.000\n",
      "\n"
     ]
    }
   ],
   "source": [
    "#Checking for the normality of data\n",
    "stat,p = chisquare(EngagementDF[\"engagement\"])\n",
    "print(\"stat=%.3f,p=%.3f\\n\"% (stat,p))\n",
    "#Data looks like  normal"
   ]
  },
  {
   "cell_type": "markdown",
   "metadata": {},
   "source": [
    "Chisquare test gives a p value which is less than 0.05. Hence there is no evidence to reject that the data is not normal"
   ]
  },
  {
   "cell_type": "code",
   "execution_count": 121,
   "metadata": {},
   "outputs": [],
   "source": [
    "#defining a wrapper to get me the last day of the month\n",
    "def last_day_of_month(any_day):\n",
    "   date = datetime.datetime.strptime(any_day, \"%Y-%m-%d %H:%M:%S\")\n",
    "   next_month = date.replace(day=28) + datetime.timedelta(days=4)\n",
    "   month =  next_month - datetime.timedelta(days=next_month.day)\n",
    "   return month.date()"
   ]
  },
  {
   "cell_type": "code",
   "execution_count": 122,
   "metadata": {},
   "outputs": [
    {
     "data": {
      "text/html": [
       "<div>\n",
       "<style scoped>\n",
       "    .dataframe tbody tr th:only-of-type {\n",
       "        vertical-align: middle;\n",
       "    }\n",
       "\n",
       "    .dataframe tbody tr th {\n",
       "        vertical-align: top;\n",
       "    }\n",
       "\n",
       "    .dataframe thead th {\n",
       "        text-align: right;\n",
       "    }\n",
       "</style>\n",
       "<table border=\"1\" class=\"dataframe\">\n",
       "  <thead>\n",
       "    <tr style=\"text-align: right;\">\n",
       "      <th></th>\n",
       "      <th>Month_Last</th>\n",
       "      <th>engagement</th>\n",
       "    </tr>\n",
       "  </thead>\n",
       "  <tbody>\n",
       "    <tr>\n",
       "      <th>0</th>\n",
       "      <td>2016-01-31</td>\n",
       "      <td>20.457143</td>\n",
       "    </tr>\n",
       "    <tr>\n",
       "      <th>1</th>\n",
       "      <td>2016-02-29</td>\n",
       "      <td>20.458333</td>\n",
       "    </tr>\n",
       "    <tr>\n",
       "      <th>2</th>\n",
       "      <td>2016-03-31</td>\n",
       "      <td>18.403846</td>\n",
       "    </tr>\n",
       "    <tr>\n",
       "      <th>3</th>\n",
       "      <td>2016-04-30</td>\n",
       "      <td>18.142857</td>\n",
       "    </tr>\n",
       "    <tr>\n",
       "      <th>4</th>\n",
       "      <td>2016-05-31</td>\n",
       "      <td>19.000000</td>\n",
       "    </tr>\n",
       "  </tbody>\n",
       "</table>\n",
       "</div>"
      ],
      "text/plain": [
       "   Month_Last  engagement\n",
       "0  2016-01-31   20.457143\n",
       "1  2016-02-29   20.458333\n",
       "2  2016-03-31   18.403846\n",
       "3  2016-04-30   18.142857\n",
       "4  2016-05-31   19.000000"
      ]
     },
     "execution_count": 122,
     "metadata": {},
     "output_type": "execute_result"
    }
   ],
   "source": [
    "BuyersDF[\"Month_Last\"] = BuyersDF[\"joined_date\"].apply(last_day_of_month)\n",
    "BuyersGroupDF = BuyersDF.groupby(\"Month_Last\").agg({\"engagement\":\"mean\"}).reset_index()\n",
    "BuyersGroupDF.head()"
   ]
  },
  {
   "cell_type": "code",
   "execution_count": 123,
   "metadata": {},
   "outputs": [
    {
     "data": {
      "image/png": "[encoded data removed]",
      "text/plain": [
       "<Figure size 720x432 with 1 Axes>"
      ]
     },
     "metadata": {
      "needs_background": "light"
     },
     "output_type": "display_data"
    }
   ],
   "source": [
    "plt.figure(figsize=(10,6))\n",
    "plt.plot(BuyersGroupDF[\"Month_Last\"],BuyersGroupDF[\"engagement\"])    \n",
    "plt.title(\"Variation of average engagement of buyers with time they joined\")\n",
    "plt.xlabel(\"Year and Month the buyer joined\")\n",
    "plt.ylabel(\"Average Engagement\")\n",
    "plt.show()"
   ]
  },
  {
   "cell_type": "markdown",
   "metadata": {},
   "source": [
    "Don't Know whether the data is complete or not but it seems that the interactions go up significantly when it is starting month of the year or end of the year. I have observed the same trend for 3 years. All The local and global peaks are related to Jan month engagements for the years:- 2016-Jan, 2017-Jan and 2018-Jan. Overall there seems to be a increase in the egagement with time"
   ]
  },
  {
   "cell_type": "code",
   "execution_count": 124,
   "metadata": {},
   "outputs": [
    {
     "data": {
      "text/html": [
       "<div>\n",
       "<style scoped>\n",
       "    .dataframe tbody tr th:only-of-type {\n",
       "        vertical-align: middle;\n",
       "    }\n",
       "\n",
       "    .dataframe tbody tr th {\n",
       "        vertical-align: top;\n",
       "    }\n",
       "\n",
       "    .dataframe thead th {\n",
       "        text-align: right;\n",
       "    }\n",
       "</style>\n",
       "<table border=\"1\" class=\"dataframe\">\n",
       "  <thead>\n",
       "    <tr style=\"text-align: right;\">\n",
       "      <th></th>\n",
       "      <th>Month_Last</th>\n",
       "      <th>engagement</th>\n",
       "    </tr>\n",
       "  </thead>\n",
       "  <tbody>\n",
       "    <tr>\n",
       "      <th>0</th>\n",
       "      <td>2016-01-31</td>\n",
       "      <td>15.666667</td>\n",
       "    </tr>\n",
       "    <tr>\n",
       "      <th>1</th>\n",
       "      <td>2016-02-29</td>\n",
       "      <td>14.166667</td>\n",
       "    </tr>\n",
       "    <tr>\n",
       "      <th>2</th>\n",
       "      <td>2016-03-31</td>\n",
       "      <td>14.666667</td>\n",
       "    </tr>\n",
       "    <tr>\n",
       "      <th>3</th>\n",
       "      <td>2016-04-30</td>\n",
       "      <td>11.666667</td>\n",
       "    </tr>\n",
       "    <tr>\n",
       "      <th>4</th>\n",
       "      <td>2016-05-31</td>\n",
       "      <td>15.684211</td>\n",
       "    </tr>\n",
       "  </tbody>\n",
       "</table>\n",
       "</div>"
      ],
      "text/plain": [
       "   Month_Last  engagement\n",
       "0  2016-01-31   15.666667\n",
       "1  2016-02-29   14.166667\n",
       "2  2016-03-31   14.666667\n",
       "3  2016-04-30   11.666667\n",
       "4  2016-05-31   15.684211"
      ]
     },
     "execution_count": 124,
     "metadata": {},
     "output_type": "execute_result"
    }
   ],
   "source": [
    "SellerDF[\"Month_Last\"] = SellerDF[\"joined_date\"].apply(last_day_of_month)\n",
    "SellersGroupDF = SellerDF.groupby(\"Month_Last\").agg({\"engagement\":\"mean\"}).reset_index()\n",
    "SellersGroupDF.head()"
   ]
  },
  {
   "cell_type": "code",
   "execution_count": null,
   "metadata": {},
   "outputs": [],
   "source": []
  },
  {
   "cell_type": "code",
   "execution_count": 125,
   "metadata": {},
   "outputs": [
    {
     "data": {
      "image/png": "[encoded data removed]",
      "text/plain": [
       "<Figure size 720x432 with 1 Axes>"
      ]
     },
     "metadata": {
      "needs_background": "light"
     },
     "output_type": "display_data"
    }
   ],
   "source": [
    "plt.figure(figsize=(10,6))\n",
    "plt.plot(SellersGroupDF[\"Month_Last\"],SellersGroupDF[\"engagement\"])    \n",
    "plt.title(\"Variation of average engagement of sellers with time they joined\")\n",
    "plt.xlabel(\"Year and Month the seller joined\")\n",
    "plt.ylabel(\"Average Engagement\")\n",
    "plt.show()"
   ]
  },
  {
   "cell_type": "code",
   "execution_count": 126,
   "metadata": {},
   "outputs": [],
   "source": [
    "def get_month(date):\n",
    "    month = date.strftime(\"%m\")\n",
    "    return month"
   ]
  },
  {
   "cell_type": "code",
   "execution_count": 127,
   "metadata": {},
   "outputs": [
    {
     "name": "stdout",
     "output_type": "stream",
     "text": [
      "[0.08853809196980096, 0.091283459162663, 0.08653846153846154]\n",
      "[19.82865864097577, 20.083080700055497, 20.34678741820827]\n"
     ]
    }
   ],
   "source": [
    "#Simple regression on the engagement\n",
    "X = DataFrame (BuyersDF[\"Month_Last\"].apply(get_month))\n",
    "y = DataFrame(BuyersDF[\"engagement\"])\n",
    "model = LogisticRegression()\n",
    "scores = []\n",
    "rmss = []\n",
    "kfold = KFold(n_splits=3, shuffle=True, random_state=42)\n",
    "for i, (train, test) in enumerate(kfold.split(X, y)):\n",
    " model.fit(X.iloc[train,:], y.iloc[train,:])\n",
    " score = model.score(X.iloc[test,:], y.iloc[test,:])\n",
    " scores.append(score)\n",
    " rms = sqrt(mean_squared_error(X.iloc[test,:], y.iloc[test,:]))\n",
    " rmss.append(rms)\n",
    "print(scores)\n",
    "print(rmss)"
   ]
  },
  {
   "cell_type": "markdown",
   "metadata": {},
   "source": [
    "Although logistic regression is not a perfect model to forcast the buyer engagement, I have used logistic regression and RMS to evaluate the model. RMS score of around 20 for engagement with 22 as mean engagement of the buyers is definitely not a good model. If I had the time, I would have implemented a time series model to forcast the user engagement based on the month the month user joined"
   ]
  },
  {
   "cell_type": "code",
   "execution_count": null,
   "metadata": {},
   "outputs": [],
   "source": []
  }
 ],
 "metadata": {
  "kernelspec": {
   "display_name": "Python 3",
   "language": "python",
   "name": "python3"
  },
  "language_info": {
   "codemirror_mode": {
    "name": "ipython",
    "version": 3
   },
   "file_extension": ".py",
   "mimetype": "text/x-python",
   "name": "python",
   "nbconvert_exporter": "python",
   "pygments_lexer": "ipython3",
   "version": "3.8.5"
  }
 },
 "nbformat": 4,
 "nbformat_minor": 4
}
